{
 "cells": [
  {
   "cell_type": "code",
   "execution_count": 1,
   "id": "5c3cbc81",
   "metadata": {},
   "outputs": [],
   "source": [
    "import sys \n",
    "import os\n",
    "import numpy as np\n",
    "import pandas as pd\n",
    "from pymongo.mongo_client import MongoClient #for mongo connecting\n",
    "from zipfile import Path# since in data ingestio output is csv path\n",
    "\n",
    "#src files\n",
    "from src.constant import * # for all constant \n",
    "from src.exception import CustomException# if any error\n",
    "from src.logger import logging# for maintaing track record\n",
    "# from src.utils.main_utils import MainUtils# for using helpers\n",
    "\n",
    "from dataclasses import dataclass# for avoiding constructor function writing"
   ]
  },
  {
   "cell_type": "code",
   "execution_count": 2,
   "id": "322c5621",
   "metadata": {},
   "outputs": [
    {
     "data": {
      "text/plain": [
       "'ML'"
      ]
     },
     "execution_count": 2,
     "metadata": {},
     "output_type": "execute_result"
    }
   ],
   "source": [
    "MONGO_DATABASE_NAME"
   ]
  },
  {
   "cell_type": "code",
   "execution_count": null,
   "id": "9ddbaec6",
   "metadata": {},
   "outputs": [],
   "source": []
  }
 ],
 "metadata": {
  "kernelspec": {
   "display_name": "Python 3",
   "language": "python",
   "name": "python3"
  },
  "language_info": {
   "codemirror_mode": {
    "name": "ipython",
    "version": 3
   },
   "file_extension": ".py",
   "mimetype": "text/x-python",
   "name": "python",
   "nbconvert_exporter": "python",
   "pygments_lexer": "ipython3",
   "version": "3.13.1"
  }
 },
 "nbformat": 4,
 "nbformat_minor": 5
}
